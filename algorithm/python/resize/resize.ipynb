{
 "cells": [
  {
   "cell_type": "code",
   "execution_count": 2,
   "metadata": {},
   "outputs": [],
   "source": [
    "import numpy as np\n",
    "import time as T\n",
    "from PIL import Image\n",
    "from cresize import cresizeANN, cresizeABL, cresizeABC, cresizeFNN, cresizeFBL, Test\n",
    "from functools import lru_cache\n",
    "\n",
    "FBIT = 13\n",
    "VBIT = 1 << FBIT\n",
    "HBIT = 1 << (FBIT - 1)\n",
    "\n",
    "SBIT = 13\n",
    "vSBIT = 1 << SBIT\n",
    "hSBIT = 1 << (SBIT - 1)\n",
    "\n",
    "def CR(x, y):\n",
    "    return ((x << FBIT)//y)\n",
    "\n",
    "def SCR(x, y):\n",
    "    return ((x << FBIT)//y)\n",
    "\n",
    "def SDR(x):\n",
    "    return (x + hSBIT) >> SBIT\n",
    "\n",
    "XINV = np.array([[-1.,  3., -2.,  0.],\n",
    "                 [ 3., -6., -3.,  6.],\n",
    "                 [-3.,  3.,  6.,  0.],\n",
    "                 [ 1.,  0., -1.,  0.]])/6\n",
    "YINV = XINV.T\n",
    "\n",
    "@lru_cache(20)\n",
    "def clip(x, up, low):\n",
    "    x = up if (x > up) else x\n",
    "    x = low if (x < low) else x\n",
    "    return x\n",
    "\n",
    "@lru_cache(20)\n",
    "def reflect(x, up, low):\n",
    "    x = -x if (x < low) else x\n",
    "    x = (up+up-x) if (x > up) else x\n",
    "    return x\n"
   ]
  },
  {
   "cell_type": "code",
   "execution_count": 4,
   "metadata": {},
   "outputs": [
    {
     "name": "stdout",
     "output_type": "stream",
     "text": [
      "0.00024\n"
     ]
    }
   ],
   "source": [
    "# Testing for matrix dot\n",
    "h1,w1 = 3,4\n",
    "h2,w2 = 4,5\n",
    "a = np.random.randint(0,255,(h1,w1))\n",
    "b = np.random.randint(0,255,(h2,w2))\n",
    "z = np.empty((h1,w2),dtype=np.int32)\n",
    "Test(a,b,z,0)\n",
    "print(h1*w1*h2*w2/1000000)"
   ]
  },
  {
   "cell_type": "code",
   "execution_count": 5,
   "metadata": {},
   "outputs": [
    {
     "name": "stdout",
     "output_type": "stream",
     "text": [
      "[[ 60278 117195 133661  65620 114943]\n",
      " [ 18365 123111 115045  48092  92430]\n",
      " [ 44636 125198 128230  40054  95812]]\n",
      "[[ 60278 117195 133661  65620 114943]\n",
      " [ 18365 123111 115045  48092  92430]\n",
      " [ 44636 125198 128230  40054  95812]]\n"
     ]
    }
   ],
   "source": [
    "print(z)\n",
    "print(a@b)"
   ]
  },
  {
   "cell_type": "code",
   "execution_count": 7,
   "metadata": {},
   "outputs": [
    {
     "name": "stdout",
     "output_type": "stream",
     "text": [
      "0.0781259536743164 0.02212834358215332\n"
     ]
    }
   ],
   "source": [
    "RUN = 10000\n",
    "import time\n",
    "ti = time.time()\n",
    "for i in range(RUN):\n",
    "    #a = np.random.randint(0,255,(h1,w1))\n",
    "    #b = np.random.randint(0,255,(h2,w2))\n",
    "    z = np.empty((h1,w2),dtype=np.int32)\n",
    "    Test(a,b,z,0)\n",
    "toc1 = time.time() - ti\n",
    "ti = time.time()\n",
    "for i in range(RUN):\n",
    "    #a = np.random.randint(0,255,(h1,w1))\n",
    "    #b = np.random.randint(0,255,(h2,w2))\n",
    "    c = a@b\n",
    "toc2 = time.time() - ti\n",
    "print(toc1, toc2)"
   ]
  },
  {
   "cell_type": "markdown",
   "metadata": {},
   "source": [
    "## Resize for nearest neighbor"
   ]
  },
  {
   "cell_type": "code",
   "execution_count": 8,
   "metadata": {},
   "outputs": [],
   "source": [
    "W, H, C = 400, 300, 3\n",
    "im = np.arange( W * H * C, dtype=np.uint8).reshape(C, H, W).transpose(1, 2, 0)\n",
    "rW, rH, rC = 123, 200, 3"
   ]
  },
  {
   "cell_type": "code",
   "execution_count": 9,
   "metadata": {},
   "outputs": [],
   "source": [
    "def CLIP(val, lower, upper):\n",
    "    val = lower if val < lower else val\n",
    "    val = upper if val > upper else val\n",
    "    return val"
   ]
  },
  {
   "cell_type": "code",
   "execution_count": 10,
   "metadata": {},
   "outputs": [],
   "source": [
    "def resizeNN(im, w, h):\n",
    "    ih, iw, ic = im.shape\n",
    "    w_r = iw/w; h_r = ih/h\n",
    "    img = np.empty((h, w, ic), dtype=np.uint8)\n",
    "    p =0\n",
    "    for i in range(h):\n",
    "        hi = int(i*h_r + 0.5)\n",
    "        for j in range(w):\n",
    "            wi = int(j*w_r + 0.5)\n",
    "            for k in range(ic):\n",
    "                img[i,j,k] = im[hi, wi, k]\n",
    "    return img\n",
    "\n",
    "def resizeANN(im, w, h):\n",
    "    ih, iw, ic = im.shape\n",
    "    w_r = CR(iw,w); h_r = CR(ih,h)\n",
    "    img = np.empty((h, w, ic), dtype=np.uint8)\n",
    "    p =0\n",
    "    for i in range(h):\n",
    "        hi = (i * h_r + HBIT) >> FBIT\n",
    "        for j in range(w):\n",
    "            wi = (j * w_r + HBIT) >> FBIT \n",
    "            for k in range(ic):\n",
    "                img[i,j,k] = im[hi, wi, k]\n",
    "    return img\n",
    "\n"
   ]
  },
  {
   "cell_type": "code",
   "execution_count": 11,
   "metadata": {},
   "outputs": [],
   "source": [
    "dog = Image.open(\"Dog.jpg\")\n",
    "dog.show()"
   ]
  },
  {
   "cell_type": "code",
   "execution_count": 12,
   "metadata": {},
   "outputs": [],
   "source": [
    "rdog = resizeANN(np.array(dog), rH, rW)\n",
    "im = Image.fromarray(rdog)\n",
    "im.show()"
   ]
  },
  {
   "cell_type": "code",
   "execution_count": 25,
   "metadata": {},
   "outputs": [],
   "source": [
    "## Time benchmark for floating point calc and fixed point calc"
   ]
  },
  {
   "cell_type": "code",
   "execution_count": 13,
   "metadata": {},
   "outputs": [
    {
     "name": "stdout",
     "output_type": "stream",
     "text": [
      "toc1 vs toc2 vs toc3 4.758841037750244 5.012707471847534 0.23832225799560547\n"
     ]
    }
   ],
   "source": [
    "import time as T\n",
    "\n",
    "RUN = 50\n",
    "W,H = 224, 224\n",
    "ti = T.time()\n",
    "for i in range(RUN):\n",
    "    rdog = resizeANN(np.array(dog), W, H)\n",
    "toc1 = T.time() - ti\n",
    "ti = T.time()\n",
    "for i in range(RUN):\n",
    "    rdog = resizeNN(np.array(dog), W, H)\n",
    "toc2 = T.time() - ti\n",
    "ti = T.time()\n",
    "for i in range(RUN):\n",
    "    rdog = np.asarray(cresizeANN(np.array(dog), W, H))\n",
    "toc3 = T.time() - ti\n",
    "print(\"toc1 vs toc2 vs toc3\", toc1, toc2, toc3)"
   ]
  },
  {
   "cell_type": "code",
   "execution_count": 8,
   "metadata": {},
   "outputs": [
    {
     "data": {
      "text/plain": [
       "'\\nhttps://stackoverflow.com/questions/12729228/simple-efficient-bilinear-interpolation-of-images-in-numpy-and-python\\n'"
      ]
     },
     "execution_count": 8,
     "metadata": {},
     "output_type": "execute_result"
    }
   ],
   "source": [
    "\"\"\"\n",
    "https://stackoverflow.com/questions/12729228/simple-efficient-bilinear-interpolation-of-images-in-numpy-and-python\n",
    "\"\"\""
   ]
  },
  {
   "cell_type": "markdown",
   "metadata": {},
   "source": [
    "## resize bilinear interpolation"
   ]
  },
  {
   "cell_type": "code",
   "execution_count": 14,
   "metadata": {},
   "outputs": [],
   "source": [
    "def resizeBL(im, w, h):\n",
    "    im_h, im_w, im_c = im.shape\n",
    "    h_r = im_h / h\n",
    "    w_r = im_w / w\n",
    "    img = np.empty((h,w,im_c))\n",
    "    \n",
    "    for j in range(h):\n",
    "        h0 = j * h_r\n",
    "        n_h0 = int(h0)\n",
    "        n_h1 = n_h0 + 1\n",
    "        n_h1 = np.clip(n_h1, 0, im_h-1)\n",
    "        h0 = h0 % 1\n",
    "        h0V = 1-h0\n",
    "        for k in range(w):\n",
    "            w0 = k * w_r\n",
    "            n_w0 = int(w0)\n",
    "            n_w1 = n_w0 + 1\n",
    "            n_w1 = np.clip(n_w1, 0, im_w-1)\n",
    "            w0 = w0 % 1\n",
    "            w0V = 1 - w0\n",
    "            for i in range(im_c):\n",
    "                #pix00 = im[n_h0, n_w0, i]\n",
    "                #pix01 = im[n_h0, n_w1, i]\n",
    "                #pix10 = im[n_h1, n_w0, i]\n",
    "                #pix11 = im[n_h1, n_w1, i]\n",
    "                #print(\"w0:%.2f, h0:%.2f, n_h0:%d, n_w0:%d, h_r:%.2f, w_r:%.2f\" % (w0, h0, n_h0, n_w0, h_r, w_r))\n",
    "                row_pix0 = im[n_h0, n_w0, i] * w0 + im[n_h0, n_w1, i] * w0V               \n",
    "                row_pix1 = im[n_h1, n_w0, i] * w0 + im[n_h1, n_w1, i] * w0V\n",
    "\n",
    "                img[j, k, i] = int(row_pix0 * h0 + row_pix1 * h0V)\n",
    "                img[j, k, i] = CLIP(img[j, k, i], 0 ,255)\n",
    "\n",
    "    return img.astype(np.uint8)             \n",
    "\n",
    "def resizeABL(im, w, h):\n",
    "    im_h, im_w, im_c = im.shape\n",
    "    h_r = CR(im_h, h)\n",
    "    w_r = CR(im_w, w)\n",
    "    img = np.empty((h,w,im_c))\n",
    "\n",
    "    for j in range(h):\n",
    "        h0 = j * h_r\n",
    "        n_h0 = h0 >> FBIT \n",
    "        n_h1 = n_h0 + 1\n",
    "        #n_h1 = CLIP(n_h1, 0, im_h-1)\n",
    "        h0 = (h0 + HBIT) % VBIT\n",
    "        h0V = VBIT-h0\n",
    "        for k in range(w):\n",
    "            w0 = k * w_r\n",
    "            n_w0 = w0 >> FBIT \n",
    "            n_w1 = n_w0 + 1\n",
    "            #n_w1 = CLIP(n_w1, 0, im_w-1)\n",
    "            w0 = (w0 + HBIT) % VBIT\n",
    "            w0V = VBIT-w0\n",
    "            for i in range(im_c):\n",
    "                #pix00 = im[n_h0, n_w0, i]\n",
    "                #pix01 = im[n_h0, n_w1, i]\n",
    "                #pix10 = im[n_h1, n_w0, i]\n",
    "                #pix11 = im[n_h1, n_w1, i]\n",
    "                row_pix0 = ((im[n_h0, n_w0, i] * w0 + im[n_h0, n_w1, i] * w0V) + HBIT) >> FBIT\n",
    "                row_pix1 = ((im[n_h1, n_w0, i] * w0 + im[n_h1, n_w1, i] * w0V) + HBIT) >> FBIT\n",
    "\n",
    "                img[j, k, i] = ((row_pix0 * h0 + row_pix1 * h0V) + HBIT) >> FBIT\n",
    "                #img[j, k, i] = CLIP(img[j, k, i], 0, 255)\n",
    "    return img.astype(np.uint8)             "
   ]
  },
  {
   "cell_type": "code",
   "execution_count": 15,
   "metadata": {},
   "outputs": [],
   "source": [
    "dog = Image.open(\"Dog.jpg\")\n",
    "dog_array = np.array(dog)\n"
   ]
  },
  {
   "cell_type": "code",
   "execution_count": 16,
   "metadata": {},
   "outputs": [],
   "source": [
    "dog_bi = resizeBL(dog_array, 200, 144)"
   ]
  },
  {
   "cell_type": "code",
   "execution_count": 18,
   "metadata": {},
   "outputs": [],
   "source": [
    "ndog = Image.fromarray(dog_bi)\n",
    "ndog.show()"
   ]
  },
  {
   "cell_type": "code",
   "execution_count": 19,
   "metadata": {},
   "outputs": [],
   "source": [
    "dog_bi = resizeABL(dog_array, 200, 144)"
   ]
  },
  {
   "cell_type": "code",
   "execution_count": 20,
   "metadata": {},
   "outputs": [],
   "source": [
    "ndog = Image.fromarray(dog_bi)\n",
    "ndog.show()"
   ]
  },
  {
   "cell_type": "code",
   "execution_count": 15,
   "metadata": {},
   "outputs": [
    {
     "name": "stdout",
     "output_type": "stream",
     "text": [
      "toc1 vs toc2 vs toc3 28.619637727737427 27.005561590194702 0.0499720573425293\n"
     ]
    }
   ],
   "source": [
    "import time as T\n",
    "\n",
    "RUN = 10\n",
    "W,H = 224, 224\n",
    "ti = T.time()\n",
    "for i in range(RUN):\n",
    "    rdog = resizeBL(np.array(dog), W, H)\n",
    "toc1 = T.time() - ti\n",
    "ti = T.time()\n",
    "for i in range(RUN):\n",
    "    rdog = resizeABL(np.array(dog), W, H)\n",
    "toc2 = T.time() - ti\n",
    "ti = T.time()\n",
    "for i in range(RUN):\n",
    "    rdog = cresizeABL(np.array(dog), W, H)\n",
    "toc3 = T.time() - ti\n",
    "\n",
    "print(\"toc1 vs toc2 vs toc3\", toc1, toc2, toc3)\n"
   ]
  },
  {
   "cell_type": "code",
   "execution_count": 22,
   "metadata": {},
   "outputs": [],
   "source": [
    "## Bicubic"
   ]
  },
  {
   "cell_type": "code",
   "execution_count": 22,
   "metadata": {},
   "outputs": [],
   "source": [
    "def resizeBC(im, h, w):\n",
    "    \"\"\"\n",
    "    @brief \n",
    "    Sample code:\n",
    "    https://stackoverflow.com/questions/52700878/bicubic-interpolation-python\n",
    "    \n",
    "    BiCubic Interpolation explain:\n",
    "    http://www.ahinson.com/algorithms_general/Sections/InterpolationRegression/InterpolationBicubic.pdf\n",
    "    @param im = src image\n",
    "    @param h = dst height\n",
    "    @param w = dst width\n",
    "    @retval img = resize 2d array with shape = (h, w)\n",
    "    \"\"\"\n",
    "    ih, iw, ic = im.shape\n",
    "    ih_, iw_ = ih-1, iw-1\n",
    "    img = np.empty((h, w, ic),dtype=np.uint8)\n",
    "    h_r = ih / h\n",
    "    w_r = iw / w\n",
    "    deltax = 1 #xi[1] - xi[0]\n",
    "    deltay = 1 #yi[1] - yi[0]\n",
    "    \n",
    "    f = np.empty((4,4), np.uint8)\n",
    "    met = clip\n",
    "    \n",
    "    for i in range(ic):\n",
    "        for j in range(h):\n",
    "            for k in range(w):\n",
    "\n",
    "                #if xi.min() <= x <= xi.max() and yi.min() <= y <= yi.max():\n",
    "                \n",
    "                # common \n",
    "                x = k * w_r\n",
    "                y = j * h_r\n",
    "                W = int(x)\n",
    "                H = int(y)\n",
    "                \n",
    "                # pad zero for out of bound value\n",
    "                px = x - W\n",
    "                py = y - H\n",
    "                \n",
    "                #px = (x-x1)/(x2-x1)\n",
    "                #py = (y-y1)/(y2-y1)\n",
    "\n",
    "                #f00 = zi[i-1, j-1]      #row0 col0 >> x0,y0\n",
    "                #f01 = zi[i-1, j]        #row0 col1 >> x1,y0\n",
    "                #f02 = zi[i-1, j+1]      #row0 col2 >> x2,y0\n",
    "                \"\"\"\n",
    "                if (H == 0) and (W == 0):\n",
    "                    f[0,0] = im[H  , W  , i]\n",
    "                elif (W == 0):\n",
    "                    f[0,0] = im[H-1  , W  , i]\n",
    "                    f[1,0] = im[H    , W  , i]\n",
    "                    f[2,0] = im[H+1  , W  , i]\n",
    "                    f[3,0] = im[H+2  , W  , i]\n",
    "                elif (H == 0):\n",
    "                    f[0,0] = im[H  , W-1, i]      #row0 col0 >> x0,y0\n",
    "                    f[0,1] = im[H  , W  , i]        #row0 col1 >> x1,y0\n",
    "                    f[0,2] = im[H  , W+1, i]      #row0 col2 >> x2,y0\n",
    "                    f[0,3] = im[H  , W+2, i]\n",
    "                else:\n",
    "                    f[0,0] = im[H-1, W-1, i]      #row0 col0 >> x0,y0\n",
    "                    f[0,1] = im[H-1, W  , i]        #row0 col1 >> x1,y0\n",
    "                    f[0,2] = im[H-1, W+1, i]      #row0 col2 >> x2,y0\n",
    "                    f[0,3] = im[H-1, W+2, i]\n",
    "                \"\"\"\n",
    "                    \n",
    "                #f10 = zi[i, j-1]        #row1 col0 >> x0,y1\n",
    "                #f11 = p00 = zi[i, j]    #row1 col1 >> x1,y1\n",
    "                #f12 = p01 = zi[i, j+1]  #row1 col2 >> x2,y1\n",
    "                d0w = met(W-1, iw_, 0)\n",
    "                d1w = met(W  , iw_, 0)\n",
    "                d2w = met(W+1, iw_, 0)\n",
    "                d3w = met(W+2, iw_, 0)   \n",
    "                #print((j,k,i),d0w,d1w,d2w,d3w,(ih,iw,ic),'size_r',(h_r,w_r),(j*h_r,k*w_r),met(W-1, iw_, 0))\n",
    "                for q in range(4):\n",
    "                    d0h = met(H+q-1, ih_, 0)\n",
    "                    f[q,0] = im[d0h, d0w, i]      \n",
    "                    f[q,1] = im[d0h, d1w, i]       \n",
    "                    f[q,2] = im[d0h, d2w, i]     \n",
    "                    f[q,3] = im[d0h, d3w, i] \n",
    "                f = f\n",
    "                #print(f.shape,XINV.shape, XINV, type(f), type(XINV), f.dtype, XINV.dtype)\n",
    "                Cr = f@XINV\n",
    "                PPX = np.array([px*px*px, px*px, px, 1])\n",
    "                #print('px:',px,'\\n',PPX,'\\n')\n",
    "                #print(\"CR PPX\",Cr.shape, PPX.shape, type(Cr), type(PPX), Cr.dtype, PPX.dtype)\n",
    "                R  = Cr@PPX\n",
    "                Cc = YINV@R\n",
    "\n",
    "                img[j,k,i]= clip(int(Cc@(np.array([py*py*py, py*py, py, 1]))),255,0)\n",
    "\n",
    "    return img\n",
    "\n",
    "def npdot(x, y, h1, w1, h2, w2):\n",
    "    assert w1 == h2, 'not valid matmul'\n",
    "    if h2 == 0: \n",
    "        h2 = w2\n",
    "    out = np.zeros((h1,w2))\n",
    "    for i in range(h1):\n",
    "        for j in range(w2):\n",
    "            for k in range(w1):\n",
    "                out[i,j] += x[i,k] * y[k,j]\n",
    "    return out\n",
    "    \n",
    "def resizeFBC(im, h, w):\n",
    "    \"\"\"\n",
    "    @brief \n",
    "    Sample code:\n",
    "    https://stackoverflow.com/questions/52700878/bicubic-interpolation-python\n",
    "    \n",
    "    BiCubic Interpolation explain:\n",
    "    http://www.ahinson.com/algorithms_general/Sections/InterpolationRegression/InterpolationBicubic.pdf\n",
    "    @param im = src image\n",
    "    @param h = dst height\n",
    "    @param w = dst width\n",
    "    @retval img = resize 2d array with shape = (h, w)\n",
    "    \"\"\"\n",
    "    ih, iw, ic = im.shape\n",
    "    ih_, iw_ = ih-1, iw-1\n",
    "    img = np.empty((h, w, ic),dtype=np.uint8)\n",
    "    h_r = ih / h\n",
    "    w_r = iw / w\n",
    "    deltax = 1 #xi[1] - xi[0]\n",
    "    deltay = 1 #yi[1] - yi[0]\n",
    "    \n",
    "    f = np.empty((4,4), np.uint8)\n",
    "    met = clip\n",
    "    for j in range(h):\n",
    "        y = j * h_r\n",
    "        H = int(y)\n",
    "        py = y - H\n",
    "        pyy = py*py\n",
    "        pyyy = pyy * py\n",
    "        PPY = np.array([pyyy, pyy, py, 1])\n",
    "        for k in range(w):\n",
    "            x = k * w_r\n",
    "            W = int(x)\n",
    "            px = x - W\n",
    "            pxx = px*px\n",
    "            pxxx = pxx * px\n",
    "            PPX = np.array([pxxx, pxx, px, 1])\n",
    "            d0w = met(W-1, iw_, 0)\n",
    "            d1w = met(W  , iw_, 0)\n",
    "            d2w = met(W+1, iw_, 0)\n",
    "            d3w = met(W+2, iw_, 0)   \n",
    "            for i in range(ic):\n",
    "                for q in range(4):\n",
    "                    d0h = met(H+q-1, ih_, 0)\n",
    "                    f[q,0] = im[d0h, d0w, i]      \n",
    "                    f[q,1] = im[d0h, d1w, i]       \n",
    "                    f[q,2] = im[d0h, d2w, i]     \n",
    "                    f[q,3] = im[d0h, d3w, i] \n",
    "                f = f\n",
    "                Cr = f@XINV\n",
    "                R  = Cr@PPX\n",
    "                Cc = YINV@R\n",
    "\n",
    "                img[j,k,i]= clip(int(Cc@PPY),255,0)\n",
    "\n",
    "    return img\n",
    "\n",
    "\n",
    "def resizeABC(im, h, w):\n",
    "    \"\"\"\n",
    "    @brief \n",
    "    Sample code:\n",
    "    https://stackoverflow.com/questions/52700878/bicubic-interpolation-python\n",
    "    \n",
    "    BiCubic Interpolation explain:\n",
    "    http://www.ahinson.com/algorithms_general/Sections/InterpolationRegression/InterpolationBicubic.pdf\n",
    "    @param im = src image\n",
    "    @param h = dst height\n",
    "    @param w = dst width\n",
    "    @retval img = resize 2d array with shape = (h, w)\n",
    "    \"\"\"\n",
    "    ih, iw, ic = im.shape\n",
    "    ih_, iw_ = ih-1, iw-1\n",
    "    img = np.empty((h, w, ic),dtype=np.uint8)\n",
    "    F = np.empty((4,4), dtype=np.uint8)\n",
    "    h_r = SCR(ih, h)\n",
    "    w_r = SCR(iw, w)\n",
    "   \n",
    "    met = clip\n",
    "    \n",
    "    for j in range(h):\n",
    "        y = j * h_r\n",
    "        _H = y >> SBIT\n",
    "        H = _H << SBIT\n",
    "        py = y - H\n",
    "        pyy =  SDR(py*py)\n",
    "        pyyy = SDR(pyy * py)\n",
    "        PPY = np.array([pyyy, pyy, py, vSBIT])\n",
    "        for k in range(w):\n",
    "            x = k * w_r\n",
    "            _W = x >> SBIT\n",
    "            W = _W << SBIT\n",
    "            px = x - W\n",
    "            pxx = SDR(px * px)\n",
    "            pxxx  = SDR(pxx * px)\n",
    "            PPX = np.array([pxxx, pxx, px, vSBIT])\n",
    "            \n",
    "            d0w = met(_W-1, iw_, 0)\n",
    "            d1w = met(_W  , iw_, 0)\n",
    "            d2w = met(_W+1, iw_, 0)\n",
    "            d3w = met(_W+2, iw_, 0) \n",
    "            for i in range(ic):  \n",
    "                for q in range(4):\n",
    "                    d0h = met(_H+q-1, ih_, 0)\n",
    "                    F[q,0] = im[d0h, d0w, i]      \n",
    "                    F[q,1] = im[d0h, d1w, i]       \n",
    "                    F[q,2] = im[d0h, d2w, i]     \n",
    "                    F[q,3] = im[d0h, d3w, i] \n",
    "                \n",
    "                Cr = F@XINV\n",
    "                #print('px:',px,'\\n',PPX,'\\n')\n",
    "                #print(\"CR PPX\",Cr.shape, PPX.shape, type(Cr), type(PPX), Cr.dtype, PPX.dtype)\n",
    "                R  = Cr@PPX \n",
    "                Cc = (YINV@R + hSBIT) / vSBIT\n",
    "                pix = Cc@PPY\n",
    "                img[j,k,i]= clip((Cc@PPY)/vSBIT,255,0)\n",
    "                #print((j,k,i),(img[j,k,i],pix))\n",
    "\n",
    "    return img.astype(np.uint8)\n"
   ]
  },
  {
   "cell_type": "code",
   "execution_count": 24,
   "metadata": {},
   "outputs": [],
   "source": [
    "import cv2"
   ]
  },
  {
   "cell_type": "code",
   "execution_count": 26,
   "metadata": {},
   "outputs": [
    {
     "name": "stdout",
     "output_type": "stream",
     "text": [
      "4.066093444824219 2.823791742324829 4.316901922225952 0.0\n"
     ]
    }
   ],
   "source": [
    "W,H = 224,224\n",
    "RUN = 1\n",
    "ti = T.time()\n",
    "for i in range(RUN):\n",
    "    rdoga = resizeBC(dog_array, H, W)\n",
    "toc1 = T.time() - ti\n",
    "\n",
    "ti = T.time()\n",
    "for i in range(RUN):\n",
    "     rdogb = resizeFBC(dog_array, H, W)\n",
    "toc2 = T.time() - ti\n",
    "\n",
    "ti = T.time()\n",
    "for i in range(RUN):\n",
    "     rdogc = resizeABC(dog_array, H, W)\n",
    "toc3 = T.time() - ti\n",
    "\n",
    "ti = T.time()\n",
    "for i in range(RUN):\n",
    "     rdogd = cv2.resize(dog_array, (W, H), interpolation=cv2.INTER_CUBIC)\n",
    "toc4 = T.time() - ti\n",
    "\n",
    "print(toc1, toc2, toc3, toc4)"
   ]
  },
  {
   "cell_type": "code",
   "execution_count": 27,
   "metadata": {},
   "outputs": [],
   "source": [
    "stacks = np.vstack([rdoga,rdogb,rdogc, rdogd])\n",
    "imb = Image.fromarray(stacks)\n",
    "imb.show()"
   ]
  },
  {
   "cell_type": "markdown",
   "metadata": {},
   "source": [
    "## Performance Testing\n",
    "### CV2 vs CYTHON resize"
   ]
  },
  {
   "cell_type": "code",
   "execution_count": 28,
   "metadata": {},
   "outputs": [],
   "source": [
    "dog = Image.open(\"Dog.jpg\")\n",
    "dog_array = np.array(dog)\n"
   ]
  },
  {
   "cell_type": "code",
   "execution_count": 29,
   "metadata": {},
   "outputs": [],
   "source": [
    "import cv2"
   ]
  },
  {
   "cell_type": "code",
   "execution_count": 32,
   "metadata": {},
   "outputs": [
    {
     "name": "stdout",
     "output_type": "stream",
     "text": [
      "toc1:0.1315\n",
      "toc2:0.5170\n",
      "toc3:3.0769\n",
      "toc4:0.3623\n",
      "toc5:2.480326\n",
      "toc6c:0.2811\n",
      "toc7c:0.9024\n",
      "\n",
      "toc9c:0.2005\n",
      "toc10c:1.2031\n"
     ]
    }
   ],
   "source": [
    "RUN = 1000\n",
    "W,H = 224, 224\n",
    "ti = T.time()\n",
    "for i in range(RUN):\n",
    "    rdognn = cv2.resize(dog_array, (W, H), interpolation=cv2.INTER_NEAREST)\n",
    "toc1 = T.time() - ti\n",
    "ti = T.time()\n",
    "for i in range(RUN):\n",
    "    rdogbl = cv2.resize(dog_array, (W, H), interpolation=cv2.INTER_LINEAR)\n",
    "toc2 = T.time() - ti\n",
    "ti = T.time()\n",
    "for i in range(RUN):\n",
    "    rdog = cv2.resize(dog_array, (W, H), interpolation=cv2.INTER_AREA)\n",
    "toc3 = T.time() - ti\n",
    "ti = T.time()\n",
    "for i in range(RUN):\n",
    "    rdogbc = cv2.resize(dog_array, (W, H), interpolation=cv2.INTER_CUBIC)\n",
    "toc4 = T.time() - ti\n",
    "ti = T.time()\n",
    "for i in range(RUN):\n",
    "    rdog = cv2.resize(dog_array, (W, H), interpolation=cv2.INTER_LANCZOS4)\n",
    "toc5 = T.time() - ti\n",
    "print(\"toc1:%.4f\\ntoc2:%.4f\\ntoc3:%.4f\\ntoc4:%.4f\\ntoc5:%f\" %( toc1, toc2, toc3, toc4, toc5))\n",
    "ti = T.time()\n",
    "for i in range(RUN):\n",
    "    rdogann = np.asarray(cresizeANN(dog_array, H, W))\n",
    "toc6 = T.time() - ti\n",
    "ti = T.time()\n",
    "for i in range(RUN):\n",
    "    rdogabl = np.asarray(cresizeABL(dog_array, H, W))\n",
    "toc7 = T.time() - ti\n",
    "print(\"toc6c:%.4f\\ntoc7c:%.4f\\n\" % (toc6, toc7))\n",
    "ti = T.time()\n",
    "\n",
    "for i in range(RUN):\n",
    "    rdogfnn = np.asarray(cresizeFNN(dog_array, H, W))\n",
    "toc9 = T.time() - ti\n",
    "for i in range(RUN):\n",
    "    rdogfbl = np.asarray(cresizeFBL(dog_array, H, W))\n",
    "toc10 = T.time() - ti\n",
    "print(\"toc9c:%.4f\\ntoc10c:%.4f\" % (toc9, toc10))\n"
   ]
  },
  {
   "cell_type": "code",
   "execution_count": 12,
   "metadata": {},
   "outputs": [
    {
     "data": {
      "text/plain": [
       "<function numpy.vstack(tup)>"
      ]
     },
     "execution_count": 12,
     "metadata": {},
     "output_type": "execute_result"
    }
   ],
   "source": [
    "np.vstack"
   ]
  },
  {
   "cell_type": "code",
   "execution_count": 33,
   "metadata": {},
   "outputs": [],
   "source": [
    "stacks = np.hstack([rdogabl, rdogbl])\n",
    "vstacks = np.hstack([rdogfbl, rdogbl])\n",
    "v1stacks = np.hstack([rdogann,rdognn])\n",
    "v2stacks = np.hstack([rdogfnn,rdogfnn])\n",
    "stacks = np.vstack([stacks,vstacks,v1stacks,v2stacks])\n",
    "img = Image.fromarray(stacks)\n",
    "img.show()\n"
   ]
  },
  {
   "cell_type": "code",
   "execution_count": null,
   "metadata": {},
   "outputs": [],
   "source": []
  }
 ],
 "metadata": {
  "kernelspec": {
   "display_name": "Python 3",
   "language": "python",
   "name": "python3"
  },
  "language_info": {
   "codemirror_mode": {
    "name": "ipython",
    "version": 3
   },
   "file_extension": ".py",
   "mimetype": "text/x-python",
   "name": "python",
   "nbconvert_exporter": "python",
   "pygments_lexer": "ipython3",
   "version": "3.6.8"
  }
 },
 "nbformat": 4,
 "nbformat_minor": 2
}
