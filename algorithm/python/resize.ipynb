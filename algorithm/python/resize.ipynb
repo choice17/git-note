{
 "cells": [
  {
   "cell_type": "code",
   "execution_count": 35,
   "metadata": {},
   "outputs": [],
   "source": [
    "import numpy as np\n",
    "import time as T\n",
    "from PIL import Image\n",
    "FBIT = 13\n",
    "VBIT = 1 << FBIT\n",
    "HBIT = 1 << (FBIT - 1)\n",
    "CR = lambda x,y: ((x << FBIT)//y)"
   ]
  },
  {
   "cell_type": "markdown",
   "metadata": {},
   "source": [
    "## Resize for nearest neighbor"
   ]
  },
  {
   "cell_type": "code",
   "execution_count": 19,
   "metadata": {},
   "outputs": [],
   "source": [
    "W, H, C = 400, 300, 3\n",
    "im = np.arange( W * H * C, dtype=np.uint8).reshape(C, H, W).transpose(1, 2, 0)\n",
    "rW, rH, rC = 123, 200, 3"
   ]
  },
  {
   "cell_type": "code",
   "execution_count": 32,
   "metadata": {},
   "outputs": [],
   "source": [
    "def CLIP(val, lower, upper):\n",
    "    val = lower if val < lower else val\n",
    "    val = upper if val > upper else val\n",
    "    return val"
   ]
  },
  {
   "cell_type": "code",
   "execution_count": 21,
   "metadata": {},
   "outputs": [],
   "source": [
    "def resizeNN(im, w, h):\n",
    "    ih, iw, ic = im.shape\n",
    "    w_r = iw/w; h_r = ih/h\n",
    "    img = np.empty((h, w, ic), dtype=np.uint8)\n",
    "    p =0\n",
    "    for i in range(h):\n",
    "        hi = int(i*h_r + 0.5)\n",
    "        for j in range(w):\n",
    "            wi = int(j*w_r + 0.5)\n",
    "            for k in range(ic):\n",
    "                img[i,j,k] = im[hi, wi, k]\n",
    "    return img\n",
    "\n",
    "def resizeANN(im, w, h):\n",
    "    ih, iw, ic = im.shape\n",
    "    w_r = CR(iw,w); h_r = CR(ih,h)\n",
    "    img = np.empty((h, w, ic), dtype=np.uint8)\n",
    "    p =0\n",
    "    for i in range(h):\n",
    "        hi = (i * h_r + HBIT) >> FBIT\n",
    "        for j in range(w):\n",
    "            wi = (j * w_r + HBIT) >> FBIT \n",
    "            for k in range(ic):\n",
    "                img[i,j,k] = im[hi, wi, k]\n",
    "    return img\n",
    "\n"
   ]
  },
  {
   "cell_type": "code",
   "execution_count": 23,
   "metadata": {},
   "outputs": [],
   "source": [
    "dog = Image.open(\"Dog.jpg\")\n",
    "dog.show()"
   ]
  },
  {
   "cell_type": "code",
   "execution_count": 24,
   "metadata": {},
   "outputs": [],
   "source": [
    "rdog = resizeANN(np.array(dog), rH, rW)\n",
    "im = Image.fromarray(rdog)\n",
    "im.show()"
   ]
  },
  {
   "cell_type": "code",
   "execution_count": 25,
   "metadata": {},
   "outputs": [],
   "source": [
    "## Time benchmark for floating point calc and fixed point calc"
   ]
  },
  {
   "cell_type": "code",
   "execution_count": 26,
   "metadata": {},
   "outputs": [
    {
     "name": "stdout",
     "output_type": "stream",
     "text": [
      "toc1 vs toc2 4.197096347808838 3.9506547451019287\n"
     ]
    }
   ],
   "source": [
    "import time as T\n",
    "\n",
    "RUN = 50\n",
    "W,H = 224, 224\n",
    "ti = T.time()\n",
    "for i in range(RUN):\n",
    "    rdog = resizeNN(np.array(dog), W, H)\n",
    "toc1 = T.time() - ti\n",
    "ti = T.time()\n",
    "for i in range(RUN):\n",
    "    rdog = resizeANN(np.array(dog), W, H)\n",
    "toc2 = T.time() - ti\n",
    "print(\"toc1 vs toc2\", toc1, toc2)"
   ]
  },
  {
   "cell_type": "code",
   "execution_count": 29,
   "metadata": {},
   "outputs": [
    {
     "name": "stdout",
     "output_type": "stream",
     "text": [
      "toc1 vs toc2 0.841686487197876 0.7871720790863037\n"
     ]
    }
   ],
   "source": [
    "import time as T\n",
    "\n",
    "RUN = 10\n",
    "W,H = 224, 224\n",
    "ti = T.time()\n",
    "for i in range(RUN):\n",
    "    rdog = resizeANN(np.array(dog), W, H)\n",
    "toc1 = T.time() - ti\n",
    "ti = T.time()\n",
    "for i in range(RUN):\n",
    "    rdog = resizeNN(np.array(dog), W, H)\n",
    "toc2 = T.time() - ti\n",
    "print(\"toc1 vs toc2\", toc1, toc2)"
   ]
  },
  {
   "cell_type": "code",
   "execution_count": 31,
   "metadata": {},
   "outputs": [
    {
     "data": {
      "text/plain": [
       "1"
      ]
     },
     "execution_count": 31,
     "metadata": {},
     "output_type": "execute_result"
    }
   ],
   "source": []
  },
  {
   "cell_type": "code",
   "execution_count": null,
   "metadata": {},
   "outputs": [],
   "source": [
    "\"\"\"\n",
    "https://stackoverflow.com/questions/12729228/simple-efficient-bilinear-interpolation-of-images-in-numpy-and-python\n",
    "\"\"\""
   ]
  },
  {
   "cell_type": "code",
   "execution_count": 78,
   "metadata": {},
   "outputs": [],
   "source": [
    "def resizeBL(im, w, h):\n",
    "    im_h, im_w, im_c = im.shape\n",
    "    h_r = im_h / h\n",
    "    w_r = im_w / w\n",
    "    img = np.empty((h,w,im_c))\n",
    "    \n",
    "    for j in range(h):\n",
    "        h0 = j * h_r\n",
    "        n_h0 = int(h0)\n",
    "        n_h1 = n_h0 + 1\n",
    "        n_h1 = np.clip(n_h1, 0, im_h-1)\n",
    "        h0 = h0 % 1\n",
    "        h0V = 1-h0\n",
    "        for k in range(w):\n",
    "            w0 = k * w_r\n",
    "            n_w0 = int(w0)\n",
    "            n_w1 = n_w0 + 1\n",
    "            n_w1 = np.clip(n_w1, 0, im_w-1)\n",
    "            w0 = w0 % 1\n",
    "            w0V = 1 - w0\n",
    "            for i in range(im_c):\n",
    "                #pix00 = im[n_h0, n_w0, i]\n",
    "                #pix01 = im[n_h0, n_w1, i]\n",
    "                #pix10 = im[n_h1, n_w0, i]\n",
    "                #pix11 = im[n_h1, n_w1, i]\n",
    "                #print(\"w0:%.2f, h0:%.2f, n_h0:%d, n_w0:%d, h_r:%.2f, w_r:%.2f\" % (w0, h0, n_h0, n_w0, h_r, w_r))\n",
    "                row_pix0 = im[n_h0, n_w0, i] * w0 + im[n_h0, n_w1, i] * w0V               \n",
    "                row_pix1 = im[n_h1, n_w0, i] * w0 + im[n_h1, n_w1, i] * w0V\n",
    "\n",
    "                img[j, k, i] = int(row_pix0 * h0 + row_pix1 * h0V)\n",
    "                img[j, k, i] = CLIP(img[j, k, i], 0 ,255)\n",
    "\n",
    "    return img.astype(np.uint8)             \n",
    "\n",
    "def resizeABL(im, w, h):\n",
    "    im_h, im_w, im_c = im.shape\n",
    "    h_r = CR(im_h, h)\n",
    "    w_r = CR(im_w, w)\n",
    "    img = np.empty((h,w,im_c))\n",
    "\n",
    "    for j in range(h):\n",
    "        h0 = j * h_r\n",
    "        n_h0 = h0 >> FBIT \n",
    "        n_h1 = n_h0 + 1\n",
    "        #n_h1 = CLIP(n_h1, 0, im_h-1)\n",
    "        h0 = (h0 + HBIT) % VBIT\n",
    "        h0V = VBIT-h0\n",
    "        for k in range(w):\n",
    "            w0 = k * w_r\n",
    "            n_w0 = w0 >> FBIT \n",
    "            n_w1 = n_w0 + 1\n",
    "            #n_w1 = CLIP(n_w1, 0, im_w-1)\n",
    "            w0 = (w0 + HBIT) % VBIT\n",
    "            w0V = VBIT-w0\n",
    "            for i in range(im_c):\n",
    "                #pix00 = im[n_h0, n_w0, i]\n",
    "                #pix01 = im[n_h0, n_w1, i]\n",
    "                #pix10 = im[n_h1, n_w0, i]\n",
    "                #pix11 = im[n_h1, n_w1, i]\n",
    "                row_pix0 = ((im[n_h0, n_w0, i] * w0 + im[n_h0, n_w1, i] * w0V) + HBIT) >> FBIT\n",
    "                row_pix1 = ((im[n_h1, n_w0, i] * w0 + im[n_h1, n_w1, i] * w0V) + HBIT) >> FBIT\n",
    "\n",
    "                img[j, k, i] = ((row_pix0 * h0 + row_pix1 * h0V) + HBIT) >> FBIT\n",
    "                #img[j, k, i] = CLIP(img[j, k, i], 0, 255)\n",
    "    return img.astype(np.uint8)             "
   ]
  },
  {
   "cell_type": "code",
   "execution_count": 79,
   "metadata": {},
   "outputs": [],
   "source": [
    "dog = Image.open(\"Dog.jpg\")\n",
    "dog_array = np.array(dog)\n"
   ]
  },
  {
   "cell_type": "code",
   "execution_count": 80,
   "metadata": {},
   "outputs": [],
   "source": [
    "dog_bi = resizeBL(dog_array, 200, 144)"
   ]
  },
  {
   "cell_type": "code",
   "execution_count": 81,
   "metadata": {},
   "outputs": [],
   "source": [
    "ndog = Image.fromarray(dog_bi)\n",
    "ndog.show()"
   ]
  },
  {
   "cell_type": "code",
   "execution_count": 82,
   "metadata": {},
   "outputs": [],
   "source": [
    "dog_bi = resizeABL(dog_array, 200, 144)"
   ]
  },
  {
   "cell_type": "code",
   "execution_count": 83,
   "metadata": {},
   "outputs": [],
   "source": [
    "ndog = Image.fromarray(dog_bi)\n",
    "ndog.show()"
   ]
  },
  {
   "cell_type": "code",
   "execution_count": 84,
   "metadata": {},
   "outputs": [
    {
     "name": "stdout",
     "output_type": "stream",
     "text": [
      "toc1 vs toc2 21.73677086830139 16.525208473205566\n"
     ]
    }
   ],
   "source": [
    "import time as T\n",
    "\n",
    "RUN = 10\n",
    "W,H = 224, 224\n",
    "ti = T.time()\n",
    "for i in range(RUN):\n",
    "    rdog = resizeBL(np.array(dog), W, H)\n",
    "toc1 = T.time() - ti\n",
    "ti = T.time()\n",
    "for i in range(RUN):\n",
    "    rdog = resizeABL(np.array(dog), W, H)\n",
    "toc2 = T.time() - ti\n",
    "print(\"toc1 vs toc2\", toc1, toc2)"
   ]
  },
  {
   "cell_type": "code",
   "execution_count": 50,
   "metadata": {},
   "outputs": [],
   "source": [
    "import cv2"
   ]
  },
  {
   "cell_type": "code",
   "execution_count": 73,
   "metadata": {},
   "outputs": [
    {
     "name": "stdout",
     "output_type": "stream",
     "text": [
      "toc1:0.3082\n",
      "toc2:0.3189\n",
      "toc3:0.6765\n",
      "toc4:0.3475\n",
      "toc5:0.517593\n"
     ]
    }
   ],
   "source": [
    "RUN = 100\n",
    "W,H = 224, 224\n",
    "ti = T.time()\n",
    "for i in range(RUN):\n",
    "    rdog = cv2.resize(np.array(dog), (W, H), interpolation=cv2.INTER_NEAREST)\n",
    "toc1 = T.time() - ti\n",
    "ti = T.time()\n",
    "for i in range(RUN):\n",
    "    rdog = cv2.resize(np.array(dog), (W, H), interpolation=cv2.INTER_LINEAR)\n",
    "toc2 = T.time() - ti\n",
    "ti = T.time()\n",
    "for i in range(RUN):\n",
    "    rdog = cv2.resize(np.array(dog), (W, H), interpolation=cv2.INTER_AREA)\n",
    "toc3 = T.time() - ti\n",
    "ti = T.time()\n",
    "for i in range(RUN):\n",
    "    rdog = cv2.resize(np.array(dog), (W, H), interpolation=cv2.INTER_CUBIC)\n",
    "toc4 = T.time() - ti\n",
    "ti = T.time()\n",
    "for i in range(RUN):\n",
    "    rdog = cv2.resize(np.array(dog), (W, H), interpolation=cv2.INTER_LANCZOS4)\n",
    "toc5 = T.time() - ti\n",
    "print(\"toc1:%.4f\\ntoc2:%.4f\\ntoc3:%.4f\\ntoc4:%.4f\\ntoc5:%f\" %( toc1, toc2, toc3, toc4, toc5))"
   ]
  },
  {
   "cell_type": "code",
   "execution_count": null,
   "metadata": {},
   "outputs": [],
   "source": []
  }
 ],
 "metadata": {
  "kernelspec": {
   "display_name": "Python 3",
   "language": "python",
   "name": "python3"
  },
  "language_info": {
   "codemirror_mode": {
    "name": "ipython",
    "version": 3
   },
   "file_extension": ".py",
   "mimetype": "text/x-python",
   "name": "python",
   "nbconvert_exporter": "python",
   "pygments_lexer": "ipython3",
   "version": "3.6.4"
  }
 },
 "nbformat": 4,
 "nbformat_minor": 2
}
